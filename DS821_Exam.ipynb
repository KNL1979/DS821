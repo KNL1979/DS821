{
 "cells": [
  {
   "cell_type": "markdown",
   "metadata": {},
   "source": [
    "Import libraries"
   ]
  },
  {
   "cell_type": "code",
   "execution_count": 2,
   "metadata": {},
   "outputs": [],
   "source": [
    "import os\n",
    "import re\n",
    "import gzip\n",
    "import json\n",
    "import random\n",
    "from pathlib import Path\n",
    "from datetime import datetime\n",
    "\n",
    "import numpy as np\n",
    "import pandas as pd\n",
    "import matplotlib.pyplot as plt\n",
    "from tqdm import tqdm\n",
    "\n",
    "from sklearn.feature_extraction.text import CountVectorizer\n",
    "from sklearn.decomposition import LatentDirichletAllocation\n",
    "\n",
    "import gensim\n",
    "from gensim.corpora import Dictionary\n",
    "from gensim.models import CoherenceModel\n",
    "\n",
    "import nltk\n",
    "from nltk.corpus import stopwords\n",
    "from nltk.tokenize import word_tokenize\n",
    "from nltk.stem import WordNetLemmatizer\n",
    "\n",
    "# Install and download nltk resources (if needed)\n",
    "# nltk.download('wordnet')\n",
    "# nltk.download('stopwords')\n",
    "# nltk.download('punkt')\n",
    "\n",
    "from sklearn.decomposition import LatentDirichletAllocation\n",
    "\n",
    "from transformers import pipeline"
   ]
  },
  {
   "cell_type": "markdown",
   "metadata": {},
   "source": [
    "Setting the current working directory"
   ]
  },
  {
   "cell_type": "code",
   "execution_count": 3,
   "metadata": {},
   "outputs": [],
   "source": [
    "script_directory = os.getcwd()\n",
    "os.chdir(script_directory)"
   ]
  },
  {
   "cell_type": "markdown",
   "metadata": {},
   "source": [
    "Load data"
   ]
  },
  {
   "cell_type": "code",
   "execution_count": 13,
   "metadata": {},
   "outputs": [
    {
     "name": "stdout",
     "output_type": "stream",
     "text": [
      "(500000, 11)\n"
     ]
    }
   ],
   "source": [
    "# Specify the path to JSON Lines file\n",
    "file_path = 'Arxiv_data/arxiv-abstracts.jsonl.gz'\n",
    "\n",
    "# Setting seed for reproducibility\n",
    "random.seed(42)\n",
    "\n",
    "# Open the gzipped JSON Lines file\n",
    "with gzip.open(file_path, 'rt', encoding='utf-8') as file:\n",
    "    # Read a random subset of abstracts\n",
    "    sample_size = 500000  \n",
    "    # Load JSON lines into a list of dictionaries\n",
    "    data = [json.loads(line) for line in random.sample(file.readlines(), sample_size)]\n",
    "\n",
    "# Convert the list of dictionaries into a pandas DataFrame\n",
    "df = pd.DataFrame(data)\n",
    "\n",
    "# Display the first few rows of the DataFrame\n",
    "print(\"Preview of the DataFrame:\")\n",
    "print(df.head())\n",
    "\n",
    "# Display the shape of the DataFrame\n",
    "print(\"DataFrame shape:\", df.shape)"
   ]
  },
  {
   "cell_type": "markdown",
   "metadata": {},
   "source": [
    "Function to encode abstracts with 'dates'"
   ]
  },
  {
   "cell_type": "code",
   "execution_count": null,
   "metadata": {},
   "outputs": [],
   "source": [
    "# Extract publication dates from arXiv IDs and create a new 'publication_date' column\n",
    "def extract_date(x):\n",
    "    # Use regular expression to extract the year and month from the arXiv ID\n",
    "    year_month = re.search(r'(\\d{2})(\\d{2})', x)\n",
    "    if year_month:\n",
    "        # Unpack the groups and create a datetime object with the year and month\n",
    "        year, month = year_month.groups()\n",
    "        return datetime.strptime(f\"{year}-{month}-01\", \"%y-%m-%d\")\n",
    "    else:\n",
    "        return None\n",
    "    \n",
    "# Apply the extract_date function to the 'id' column and create a new 'publication_date' column\n",
    "df['publication_date'] = df['id'].apply(extract_date)\n",
    "\n",
    "# Display the first few rows of the DataFrame with the new 'publication_date' column\n",
    "print(\"DataFrame with publication dates:\")\n",
    "print(df.head())"
   ]
  },
  {
   "cell_type": "markdown",
   "metadata": {},
   "source": [
    "Sort the dataframe wrt. publication 'date'"
   ]
  },
  {
   "cell_type": "code",
   "execution_count": 6,
   "metadata": {},
   "outputs": [],
   "source": [
    "# Sort the DataFrame in descending order based on 'publication_date'\n",
    "df_sorted = df.sort_values(by='publication_date', ascending=False)\n",
    "\n",
    "df_sorted.head()"
   ]
  },
  {
   "cell_type": "markdown",
   "metadata": {},
   "source": [
    "## Topic Modelling with Latent Dirichlet Analysis (LDA) on abstracts from articles published during COVID-19"
   ]
  },
  {
   "cell_type": "markdown",
   "metadata": {},
   "source": [
    "The data was initially subsetted to correspond to the timeframe of the COVID-19 pandemic"
   ]
  },
  {
   "cell_type": "code",
   "execution_count": 24,
   "metadata": {},
   "outputs": [
    {
     "data": {
      "text/plain": [
       "(87194, 12)"
      ]
     },
     "execution_count": 24,
     "metadata": {},
     "output_type": "execute_result"
    }
   ],
   "source": [
    "# Subset the sorted DataFrame based on the COVID-19 period feb. 2020 - dec 2021\n",
    "df_covid = df_sorted[(df_sorted['publication_date'] >= '2020-02-01')]\n",
    "\n",
    "df_covid.head()\n",
    "df_covid.tail()\n",
    "\n",
    "df_covid.shape"
   ]
  },
  {
   "cell_type": "markdown",
   "metadata": {},
   "source": [
    "1. Data preprocessing"
   ]
  },
  {
   "cell_type": "code",
   "execution_count": 10,
   "metadata": {},
   "outputs": [
    {
     "name": "stdout",
     "output_type": "stream",
     "text": [
      "Example cleaned abstracts:\n",
      "Abstract 1: technical report contains material accompanying work title published start sec 1 detailed presentation core innovation work await model checking amc correctness proof amc found sec next discus three study case sec 3 presenting bug found challenge encountered applying vsync existing code base finally sec 4 describe setup detail evaluation report experimental result\n",
      "Abstract 2: autonomous navigation key skill assistive service robot successful robot minimise disruption caused human moving implies predicting people move complying social convention avoiding disrupting personal space people path interaction example social convention paper leverage graph neural network model robot disruption considering movement human robot model built used path planning algorithm along model paper present evolution dataset socnav1 25 considers movement robot human updated transformation tested using different graph neural network block model trained achieves performance dataset addition accuracy main advantage approach scalability term number social factor considered comparison handcrafted model dataset model available public repository http\n"
     ]
    }
   ],
   "source": [
    "# Extracting abstracts\n",
    "abstracts = df_covid['abstract'].tolist()\n",
    "\n",
    "# Set seed for reproducability\n",
    "random.seed(42)\n",
    "# Shuffle the abstracts for variety\n",
    "random.shuffle(abstracts)\n",
    "\n",
    "# Load lemmatizer\n",
    "lemmatizer = WordNetLemmatizer()                # The process of lemmatization reduces words to their base or root form (Grouping together different forms of the same word).\n",
    "stop_words = set(stopwords.words('english'))    # Common words are removed as they often does not contribute the overall meaning of the text.\n",
    "\n",
    "# Process each abstract by tokenizing, lemmatizing, and removing stop words - resulting in the cleaned_abstracts list containing the cleaned documents.\n",
    "cleaned_abstracts = []\n",
    "for abstract in abstracts:\n",
    "    # Tokenize and lemmatize\n",
    "    tokens = word_tokenize(abstract.lower())\n",
    "    lemmatized_tokens = [lemmatizer.lemmatize(token) for token in tokens if token.isalnum()] #isalnum checks whether all characters in the token are alphanumeric. Helps filter out tokens that may contain non-alphanumeric characters before lemmatizing \n",
    "    # Remove stop words\n",
    "    filtered_tokens = [token for token in lemmatized_tokens if token not in stop_words]\n",
    "    cleaned_abstracts.append(' '.join(filtered_tokens))\n",
    "\n",
    "# Visualize som cleaned abstacts\n",
    "print(\"Example cleaned abstracts:\")\n",
    "for i in range(2):\n",
    "    print(f\"Abstract {i + 1}: {cleaned_abstracts[i]}\")\n",
    "\n",
    "# Utilizing CountVectorizer() to create a Bag of Words matrix (X)\n",
    "# Each row represents an abstract, and each column represents a unique word in the vocabulary.\n",
    "# The cells represent the counts of each word in the corresponding abstract.\n",
    "vectorizer = CountVectorizer()\n",
    "X = vectorizer.fit_transform(cleaned_abstracts)"
   ]
  },
  {
   "cell_type": "markdown",
   "metadata": {},
   "source": [
    "2. Dimensionality reduction"
   ]
  },
  {
   "cell_type": "code",
   "execution_count": 11,
   "metadata": {},
   "outputs": [
    {
     "name": "stdout",
     "output_type": "stream",
     "text": [
      "Shape after filtering: (87194, 98859)\n",
      "Shape after dimension reduction: (87194, 5309)\n"
     ]
    }
   ],
   "source": [
    "print(f'Shape after filtering: {X.shape}')\n",
    "# At this point we have our feature matrix X containing Bag of Word representation of our abstracts. The abstracts has been lemmatized and stopwords has been removed.\n",
    "# Each row in X represents an abstract, and each column represents a unique word in the vocabulary.\n",
    "# There are 87,194 columns after vectorizing, representing 87,194 unique words.\n",
    "\n",
    "# The sum of each column will represent the total count of the unique words across all the abstracts in the subsetted corpus.\n",
    "word_frequencies = X.sum(axis=0)\n",
    "\n",
    "# Convert to a numpy array for easier manipulation\n",
    "word_frequencies_array = word_frequencies.A1\n",
    "\n",
    "# Sort indices in descending order based on wordfrequencies\n",
    "sorted_indices = np.argsort(word_frequencies_array)[::-1]\n",
    "\n",
    "# Calculate the cumulative sum of word frequencies\n",
    "cumulative_sum = np.cumsum(word_frequencies_array[sorted_indices])\n",
    "\n",
    "# Calculate the total sum of word frequencies\n",
    "total_sum = cumulative_sum[-1]\n",
    "\n",
    "# Set the percentage of top words to keep\n",
    "percentage_to_keep = 0.90\n",
    "\n",
    "# Find the index where cumulative sum exceeds the specified percentage of total tokens\n",
    "threshold_index = np.argmax(cumulative_sum >= percentage_to_keep * total_sum)\n",
    "\n",
    "# Select only the top elements up to the threshold index\n",
    "selected_indices = sorted_indices[:threshold_index + 1]\n",
    "X_filtered = X[:, selected_indices]\n",
    "\n",
    "# Extract liste of words in retained parts of X\n",
    "feature_names = np.array(vectorizer.get_feature_names_out())\n",
    "retained_tokens = feature_names[selected_indices].tolist()\n",
    "\n",
    "print(f'Shape after dimension reduction: {X_filtered.shape}') # Fewer columns - reduced from 98,859 to 5309."
   ]
  },
  {
   "cell_type": "markdown",
   "metadata": {},
   "source": [
    "3. Determine the optimal number of topics using elbow plot"
   ]
  },
  {
   "cell_type": "code",
   "execution_count": null,
   "metadata": {},
   "outputs": [],
   "source": [
    "# Input the Bag of Words representation (X_filtered) as input to LDA to discover underlying topics in the abstracts (based on word co-occurrence patterns).\n",
    "\n",
    "# Initialize an empty list to store evaluation metric values\n",
    "eval_metric_values = []\n",
    "\n",
    "# Define the range of number of topics to be tried\n",
    "num_topics_range = range(5, 15)\n",
    "\n",
    "# Loop over each number of topics\n",
    "for num_topics in num_topics_range:\n",
    "    print(f'fitting num_topics = {num_topics}')\n",
    "\n",
    "    # Create an LDA model with the current number of topics\n",
    "    lda = LatentDirichletAllocation(n_components=num_topics, random_state=42)\n",
    "    # Fit the LDA model to the filtered feature matrix (X_filtered)\n",
    "    lda.fit(X_filtered)\n",
    "\n",
    "    # Evaluation metric (perplexity)\n",
    "    perplexity = lda.perplexity(X_filtered)\n",
    "    print(f'perplexity for {num_topics} topics: {perplexity}')\n",
    "\n",
    "    eval_metric_values.append(perplexity)\n",
    "\n",
    " \n",
    "# Identify the elbow point using differences in perplexity values. \n",
    "# Perplexity is a measure of how well the topic model predicts new or unseen data.\n",
    "diffs = np.diff(eval_metric_values)\n",
    "print(\"Differences in perplexity:\", diffs)\n",
    "\n",
    "# Find the index where the rate of change (slope) decreases the most\n",
    "elbow_point = np.argmin(diffs) + 5  # Add 5 because we started from num_topics=5\n",
    "\n",
    "# Plot the evaluation metric values against the number of topics\n",
    "plt.plot(num_topics_range, eval_metric_values, marker='x')\n",
    "plt.title('Elbow Method for Optimal Number of Topics')\n",
    "plt.xlabel('Number of Topics')\n",
    "plt.ylabel('Perplexity')\n",
    "\n",
    "# Mark the elbow point on the plot\n",
    "plt.scatter(elbow_point, eval_metric_values[elbow_point - 5], c='red', label='Elbow Point', marker='o', s=50)\n",
    "plt.legend()\n",
    "\n",
    "plt.show()\n",
    "\n",
    "# Print the identified optimal number of topics\n",
    "print(f\"Optimal Number of Topics (Elbow Point): {elbow_point}\")"
   ]
  },
  {
   "cell_type": "markdown",
   "metadata": {},
   "source": [
    "Gensim-based topic modeling with Latent Dirichlet Allocation (LDA) - Analyzing coherence for optimal number of topics"
   ]
  },
  {
   "cell_type": "code",
   "execution_count": null,
   "metadata": {},
   "outputs": [],
   "source": [
    "# Convert cleaned_abstracts to a list of lists\n",
    "tokenized_abstracts = [doc.split() for doc in cleaned_abstracts]\n",
    "\n",
    "# Create a Gensim Dictionary\n",
    "gensim_dictionary = Dictionary(tokenized_abstracts)\n",
    "\n",
    "# Initialize an empty list to store evaluation metrics\n",
    "# Coherence is a measure of how well the words in a topic relate to each other\n",
    "eval_metric_values = []\n",
    "\n",
    "# Define the range of number of topics to be tried\n",
    "num_topics_range = range(5, 15)\n",
    "\n",
    "# Convert your Bag of Words matrix to Gensim format\n",
    "corpus = gensim.matutils.Sparse2Corpus(X_filtered.T)\n",
    "\n",
    "# Loop over each number of topics\n",
    "for num_topics in num_topics_range:\n",
    "    print(f'fitting num_topics = {num_topics}')\n",
    "\n",
    "    # Create an LDA model with the current number of topics\n",
    "    lda = LatentDirichletAllocation(n_components=num_topics, random_state=42)\n",
    "    \n",
    "    # Fit the LDA model to the filtered feature matrix (X_filtered)\n",
    "    lda.fit(X_filtered)\n",
    "\n",
    "    # Convert the LDA model to Gensim format\n",
    "    lda_gensim = gensim.models.ldamodel.LdaModel(corpus, num_topics=num_topics, id2word=dict(enumerate(feature_names)))\n",
    "\n",
    "    # Calculate coherence\n",
    "    coherence_model_lda = CoherenceModel(model=lda_gensim, texts=tokenized_abstracts, dictionary=gensim_dictionary, coherence='c_v')\n",
    "\n",
    "    coherence = coherence_model_lda.get_coherence()\n",
    "    print(f'coherence for {num_topics} topics: {coherence}')\n",
    "\n",
    "    eval_metric_values.append(coherence)\n",
    "\n",
    "diffs = np.diff(eval_metric_values)\n",
    "print(\"Differences in coherence:\", diffs)"
   ]
  },
  {
   "cell_type": "markdown",
   "metadata": {},
   "source": [
    "Visualize optimal number of topics using coherence plot"
   ]
  },
  {
   "cell_type": "code",
   "execution_count": 18,
   "metadata": {},
   "outputs": [
    {
     "data": {
      "image/png": "[encoded data removed]",
      "text/plain": [
       "<Figure size 640x480 with 1 Axes>"
      ]
     },
     "metadata": {},
     "output_type": "display_data"
    },
    {
     "name": "stdout",
     "output_type": "stream",
     "text": [
      "Optimal Number of Topics (Optimal Number of Topics): 12\n"
     ]
    }
   ],
   "source": [
    "\n",
    "# Plot the evaluation metric values against the number of topics\n",
    "plt.plot(num_topics_range, eval_metric_values, marker='x')\n",
    "plt.title('Coherence plot for Optimal Number of Topics')\n",
    "plt.xlabel('Number of Topics')\n",
    "plt.ylabel('Coherence')  \n",
    "\n",
    "# Identify the elbow point using differences in coherence values\n",
    "max_coherence_index = eval_metric_values.index(max(eval_metric_values))\n",
    "optimal_num_topics = num_topics_range[max_coherence_index]\n",
    "max_coherence_value = eval_metric_values[max_coherence_index]\n",
    "\n",
    "# Mark the highest coherence value on the plot\n",
    "plt.scatter(optimal_num_topics, max_coherence_value, c='red', label='Optimal Number of Topics', marker='o', s=50)\n",
    "plt.legend()\n",
    "\n",
    "plt.show()\n",
    "\n",
    "# Print the identified optimal number of topics\n",
    "print(f\"Optimal Number of Topics (Optimal Number of Topics): {optimal_num_topics}\")"
   ]
  },
  {
   "cell_type": "markdown",
   "metadata": {},
   "source": [
    "Refit LDA Model with optimal number of topics"
   ]
  },
  {
   "cell_type": "code",
   "execution_count": 20,
   "metadata": {},
   "outputs": [
    {
     "data": {
      "text/html": [
       "<style>#sk-container-id-1 {color: black;}#sk-container-id-1 pre{padding: 0;}#sk-container-id-1 div.sk-toggleable {background-color: white;}#sk-container-id-1 label.sk-toggleable__label {cursor: pointer;display: block;width: 100%;margin-bottom: 0;padding: 0.3em;box-sizing: border-box;text-align: center;}#sk-container-id-1 label.sk-toggleable__label-arrow:before {content: \"▸\";float: left;margin-right: 0.25em;color: #696969;}#sk-container-id-1 label.sk-toggleable__label-arrow:hover:before {color: black;}#sk-container-id-1 div.sk-estimator:hover label.sk-toggleable__label-arrow:before {color: black;}#sk-container-id-1 div.sk-toggleable__content {max-height: 0;max-width: 0;overflow: hidden;text-align: left;background-color: #f0f8ff;}#sk-container-id-1 div.sk-toggleable__content pre {margin: 0.2em;color: black;border-radius: 0.25em;background-color: #f0f8ff;}#sk-container-id-1 input.sk-toggleable__control:checked~div.sk-toggleable__content {max-height: 200px;max-width: 100%;overflow: auto;}#sk-container-id-1 input.sk-toggleable__control:checked~label.sk-toggleable__label-arrow:before {content: \"▾\";}#sk-container-id-1 div.sk-estimator input.sk-toggleable__control:checked~label.sk-toggleable__label {background-color: #d4ebff;}#sk-container-id-1 div.sk-label input.sk-toggleable__control:checked~label.sk-toggleable__label {background-color: #d4ebff;}#sk-container-id-1 input.sk-hidden--visually {border: 0;clip: rect(1px 1px 1px 1px);clip: rect(1px, 1px, 1px, 1px);height: 1px;margin: -1px;overflow: hidden;padding: 0;position: absolute;width: 1px;}#sk-container-id-1 div.sk-estimator {font-family: monospace;background-color: #f0f8ff;border: 1px dotted black;border-radius: 0.25em;box-sizing: border-box;margin-bottom: 0.5em;}#sk-container-id-1 div.sk-estimator:hover {background-color: #d4ebff;}#sk-container-id-1 div.sk-parallel-item::after {content: \"\";width: 100%;border-bottom: 1px solid gray;flex-grow: 1;}#sk-container-id-1 div.sk-label:hover label.sk-toggleable__label {background-color: #d4ebff;}#sk-container-id-1 div.sk-serial::before {content: \"\";position: absolute;border-left: 1px solid gray;box-sizing: border-box;top: 0;bottom: 0;left: 50%;z-index: 0;}#sk-container-id-1 div.sk-serial {display: flex;flex-direction: column;align-items: center;background-color: white;padding-right: 0.2em;padding-left: 0.2em;position: relative;}#sk-container-id-1 div.sk-item {position: relative;z-index: 1;}#sk-container-id-1 div.sk-parallel {display: flex;align-items: stretch;justify-content: center;background-color: white;position: relative;}#sk-container-id-1 div.sk-item::before, #sk-container-id-1 div.sk-parallel-item::before {content: \"\";position: absolute;border-left: 1px solid gray;box-sizing: border-box;top: 0;bottom: 0;left: 50%;z-index: -1;}#sk-container-id-1 div.sk-parallel-item {display: flex;flex-direction: column;z-index: 1;position: relative;background-color: white;}#sk-container-id-1 div.sk-parallel-item:first-child::after {align-self: flex-end;width: 50%;}#sk-container-id-1 div.sk-parallel-item:last-child::after {align-self: flex-start;width: 50%;}#sk-container-id-1 div.sk-parallel-item:only-child::after {width: 0;}#sk-container-id-1 div.sk-dashed-wrapped {border: 1px dashed gray;margin: 0 0.4em 0.5em 0.4em;box-sizing: border-box;padding-bottom: 0.4em;background-color: white;}#sk-container-id-1 div.sk-label label {font-family: monospace;font-weight: bold;display: inline-block;line-height: 1.2em;}#sk-container-id-1 div.sk-label-container {text-align: center;}#sk-container-id-1 div.sk-container {/* jupyter's `normalize.less` sets `[hidden] { display: none; }` but bootstrap.min.css set `[hidden] { display: none !important; }` so we also need the `!important` here to be able to override the default hidden behavior on the sphinx rendered scikit-learn.org. See: https://github.com/scikit-learn/scikit-learn/issues/21755 */display: inline-block !important;position: relative;}#sk-container-id-1 div.sk-text-repr-fallback {display: none;}</style><div id=\"sk-container-id-1\" class=\"sk-top-container\"><div class=\"sk-text-repr-fallback\"><pre>LatentDirichletAllocation(n_components=12, random_state=20)</pre><b>In a Jupyter environment, please rerun this cell to show the HTML representation or trust the notebook. <br />On GitHub, the HTML representation is unable to render, please try loading this page with nbviewer.org.</b></div><div class=\"sk-container\" hidden><div class=\"sk-item\"><div class=\"sk-estimator sk-toggleable\"><input class=\"sk-toggleable__control sk-hidden--visually\" id=\"sk-estimator-id-1\" type=\"checkbox\" checked><label for=\"sk-estimator-id-1\" class=\"sk-toggleable__label sk-toggleable__label-arrow\">LatentDirichletAllocation</label><div class=\"sk-toggleable__content\"><pre>LatentDirichletAllocation(n_components=12, random_state=20)</pre></div></div></div></div></div>"
      ],
      "text/plain": [
       "LatentDirichletAllocation(n_components=12, random_state=20)"
      ]
     },
     "execution_count": 20,
     "metadata": {},
     "output_type": "execute_result"
    }
   ],
   "source": [
    "# Refit with optimal topics\n",
    "lda = LatentDirichletAllocation(n_components=optimal_num_topics, random_state=20)\n",
    "lda.fit(X_filtered)"
   ]
  },
  {
   "cell_type": "markdown",
   "metadata": {},
   "source": [
    "Display the top 10 words for each topic"
   ]
  },
  {
   "cell_type": "code",
   "execution_count": 21,
   "metadata": {},
   "outputs": [
    {
     "name": "stdout",
     "output_type": "stream",
     "text": [
      "Top words for each topic:\n",
      "Topic 1: research, study, ha, paper, analysis, system, social, data, tool, also\n",
      "--------------------------------------------------\n",
      "Topic 2: network, model, neural, feature, performance, code, method, deep, detection, proposed\n",
      "--------------------------------------------------\n",
      "Topic 3: quantum, model, theory, system, equation, field, state, solution, energy, function\n",
      "--------------------------------------------------\n",
      "Topic 4: galaxy, star, mass, source, emission, cluster, observation, model, data, find\n",
      "--------------------------------------------------\n",
      "Topic 5: model, mass, energy, particle, data, result, dark, star, neutrino, solar\n",
      "--------------------------------------------------\n",
      "Topic 6: learning, data, model, graph, network, training, method, task, domain, performance\n",
      "--------------------------------------------------\n",
      "Topic 7: state, phase, quantum, magnetic, field, material, effect, temperature, system, transition\n",
      "--------------------------------------------------\n",
      "Topic 8: system, data, network, control, performance, design, paper, communication, proposed, application\n",
      "--------------------------------------------------\n",
      "Topic 9: method, problem, algorithm, image, proposed, approach, optimization, using, numerical, solution\n",
      "--------------------------------------------------\n",
      "Topic 10: model, algorithm, distribution, time, problem, data, method, process, parameter, probability\n",
      "--------------------------------------------------\n",
      "Topic 11: result, space, show, group, prove, function, paper, set, number, also\n",
      "--------------------------------------------------\n",
      "Topic 12: model, task, method, object, image, approach, learning, propose, language, data\n",
      "--------------------------------------------------\n"
     ]
    }
   ],
   "source": [
    "# Display the top 10 words for each topic in the refitted lda-model.\n",
    "feature_names = np.array(vectorizer.get_feature_names_out())[selected_indices]\n",
    "\n",
    "print(\"Top words for each topic:\")\n",
    "for topic_id, topic in enumerate(lda.components_):\n",
    "    # Get the indices of the top 10 words for the current topic\n",
    "    top_word_indices = topic.argsort()[:-11:-1]\n",
    "    # Get the actual words from the feature names\n",
    "    top_words = feature_names[top_word_indices]\n",
    "    print(f\"Topic {topic_id + 1}: {', '.join(top_words)}\\n{'-'*50}\")"
   ]
  },
  {
   "cell_type": "markdown",
   "metadata": {},
   "source": [
    "## Zero-Shot classification on a subset of 100,000 randomly extracted abstracts from the arXiv dataset"
   ]
  },
  {
   "cell_type": "markdown",
   "metadata": {},
   "source": [
    "Load data for Zero-Shot classification"
   ]
  },
  {
   "cell_type": "code",
   "execution_count": null,
   "metadata": {},
   "outputs": [],
   "source": [
    "# Specify the path to JSON Lines file\n",
    "file_path = 'Arxiv_data/arxiv-abstracts.jsonl.gz'\n",
    "\n",
    "# Setting seed for reproducibility\n",
    "random.seed(42)\n",
    "\n",
    "# Open the gzipped JSON Lines file\n",
    "with gzip.open(file_path, 'rt', encoding='utf-8') as file:\n",
    "    # Read a random subset of abstracts\n",
    "    sample_size = 100000 \n",
    "    data = [json.loads(line) for line in random.sample(file.readlines(), sample_size)]\n",
    "\n",
    "# Convert the list of dictionaries into a pandas DataFrame\n",
    "df = pd.DataFrame(data)\n",
    "\n",
    "# Display the first few rows of the DataFrame\n",
    "df.head()\n",
    "print(df.shape)"
   ]
  },
  {
   "cell_type": "markdown",
   "metadata": {},
   "source": [
    "Zero-Shot classification and result analysis"
   ]
  },
  {
   "cell_type": "code",
   "execution_count": null,
   "metadata": {},
   "outputs": [],
   "source": [
    "#Define a function for zero-shot classification\n",
    "def zero_shot(abstracts, labels, gpu_index=0, random_seed=42):\n",
    "    # Create a list of dictionaries where each dictionary contains an abstract and labels\n",
    "    input_data = [{'abstract': abstract, 'labels': labels} for abstract in abstracts]\n",
    "\n",
    "    # Initialize an empty list to store results\n",
    "    results = []\n",
    "\n",
    "    # Use the 'dataset' parameter to process the inputs in parallel on the chosen GPU\n",
    "    classifier = pipeline('zero-shot-classification', device=gpu_index)\n",
    "    \n",
    "    # Use tqdm to create a progress bar\n",
    "    for data_point in tqdm(input_data, desc=\"Processing Abstracts\"):\n",
    "        result = classifier(data_point['abstract'], data_point['labels'])\n",
    "        results.append(result)\n",
    "\n",
    "    return results\n",
    "\n",
    "# Extract abstracts and define labels for zero-shot classification\n",
    "abstracts = df['abstract'].tolist()\n",
    "labels = ['nlp', 'natural language processing', 'Named Entity Recognition', 'NER', 'Sentiment Analysis', 'Text Classification']\n",
    "\n",
    "# Set GPU index for zero-shot classification\n",
    "gpu_index = 0\n",
    "\n",
    "# Perform zero-shot classification on the abstracts\n",
    "classification_results = zero_shot(abstracts, labels, gpu_index)\n",
    "\n",
    "# Create a list to store DataFrames\n",
    "dfs = []\n",
    "\n",
    "# Populate the list with DataFrames for each abstract and label\n",
    "for i, abstract in enumerate(abstracts):\n",
    "    row = {'Title': df['title'].iloc[i], 'Abstract': abstract}\n",
    "    for j, label in enumerate(labels):\n",
    "        row[f'{label}_Score'] = classification_results[i]['scores'][j]\n",
    "    df_row = pd.DataFrame([row])\n",
    "    dfs.append(df_row)\n",
    "\n",
    "# Concatenate the list of DataFrames into a single DataFrame\n",
    "result_df = pd.concat(dfs, ignore_index=True)\n",
    "\n",
    "# Display the DataFrame\n",
    "result_df"
   ]
  },
  {
   "cell_type": "markdown",
   "metadata": {},
   "source": [
    "Displaying top results after sorting by 'nlp_Score'"
   ]
  },
  {
   "cell_type": "code",
   "execution_count": null,
   "metadata": {},
   "outputs": [],
   "source": [
    "# Sort the DataFrame based on the 'nlp_Score' column in descending order\n",
    "result_df = result_df.sort_values(by='nlp_Score', axis=0, ascending=False)\n",
    "\n",
    "# Create a subset DataFrame with selected columns\n",
    "result_df_subset = result_df[['Title', 'Abstract', 'nlp_Score']]\n",
    "result_df_subset.head()"
   ]
  }
 ],
 "metadata": {
  "kernelspec": {
   "display_name": "SentimentF23",
   "language": "python",
   "name": "python3"
  },
  "language_info": {
   "codemirror_mode": {
    "name": "ipython",
    "version": 3
   },
   "file_extension": ".py",
   "mimetype": "text/x-python",
   "name": "python",
   "nbconvert_exporter": "python",
   "pygments_lexer": "ipython3",
   "version": "3.11.5"
  }
 },
 "nbformat": 4,
 "nbformat_minor": 2
}
