{
 "cells": [
  {
   "cell_type": "code",
   "execution_count": 1,
   "metadata": {},
   "outputs": [],
   "source": [
    "import numpy as np\n",
    "import pandas as pd\n",
    "from pathlib import Path\n",
    "from datetime import datetime\n",
    "import re\n",
    "import os\n",
    "import random"
   ]
  },
  {
   "cell_type": "code",
   "execution_count": 2,
   "metadata": {},
   "outputs": [],
   "source": [
    "script_directory = os.getcwd()\n",
    "os.chdir(script_directory)"
   ]
  },
  {
   "cell_type": "code",
   "execution_count": 3,
   "metadata": {},
   "outputs": [
    {
     "name": "stdout",
     "output_type": "stream",
     "text": [
      "(500, 11)\n"
     ]
    }
   ],
   "source": [
    "import gzip\n",
    "import json\n",
    "# Specify the path to your JSON Lines file\n",
    "file_path = 'Arxiv_data/arxiv-abstracts.jsonl.gz'\n",
    "\n",
    "# Setting seed for reproducability\n",
    "random.seed(42)\n",
    "\n",
    "# Open the gzipped JSON Lines file\n",
    "with gzip.open(file_path, 'rt', encoding='utf-8') as file:\n",
    "    # Read a random subset of lines (adjust the sample_size as needed)\n",
    "    sample_size = 500000  # Adjust this number as needed\n",
    "    data = [json.loads(line) for line in random.sample(file.readlines(), sample_size)]\n",
    "\n",
    "# Convert the list of dictionaries into a pandas DataFrame\n",
    "df = pd.DataFrame(data)\n",
    "\n",
    "# Display the first few rows of the DataFrame\n",
    "df.head()\n",
    "print(df.shape)"
   ]
  },
  {
   "cell_type": "code",
   "execution_count": 5,
   "metadata": {},
   "outputs": [
    {
     "name": "stdout",
     "output_type": "stream",
     "text": [
      "Is the last part of the ID incremental? False\n"
     ]
    }
   ],
   "source": [
    "# Exploratory to see if last part of id is incremental (FALSE = explore year-shift)\n",
    "# Extract the last part of the ID column as integers\n",
    "last_part_values = df['id'].str.split('.').str[1]\n",
    "\n",
    "# Convert non-null values to integers, handling NaN values appropriately\n",
    "last_part_values = pd.to_numeric(last_part_values, errors='coerce')\n",
    "\n",
    "# Check if the last part is incremental\n",
    "is_incremental = last_part_values.is_monotonic_increasing\n",
    "\n",
    "# Display the result\n",
    "print(\"Is the last part of the ID incremental?\", is_incremental)"
   ]
  },
  {
   "cell_type": "code",
   "execution_count": 6,
   "metadata": {},
   "outputs": [
    {
     "ename": "IndexError",
     "evalue": "index 0 is out of bounds for axis 0 with size 0",
     "output_type": "error",
     "traceback": [
      "\u001b[1;31m---------------------------------------------------------------------------\u001b[0m",
      "\u001b[1;31mIndexError\u001b[0m                                Traceback (most recent call last)",
      "Cell \u001b[1;32mIn[6], line 3\u001b[0m\n\u001b[0;32m      1\u001b[0m \u001b[38;5;66;03m# Exploratory -- Based on this example, the abstract number appears to reset when the month changes\u001b[39;00m\n\u001b[0;32m      2\u001b[0m \u001b[38;5;66;03m# Find the index of the row with '1807.0001'\u001b[39;00m\n\u001b[1;32m----> 3\u001b[0m index_1807_00001 \u001b[38;5;241m=\u001b[39m df[df[\u001b[38;5;124m'\u001b[39m\u001b[38;5;124mid\u001b[39m\u001b[38;5;124m'\u001b[39m] \u001b[38;5;241m==\u001b[39m \u001b[38;5;124m'\u001b[39m\u001b[38;5;124m1807.00001\u001b[39m\u001b[38;5;124m'\u001b[39m]\u001b[38;5;241m.\u001b[39mindex[\u001b[38;5;241m0\u001b[39m]\n\u001b[0;32m      5\u001b[0m \u001b[38;5;66;03m# Access the rows around '1807.0001' using iloc\u001b[39;00m\n\u001b[0;32m      6\u001b[0m df_selected \u001b[38;5;241m=\u001b[39m df\u001b[38;5;241m.\u001b[39miloc[index_1807_00001 \u001b[38;5;241m-\u001b[39m \u001b[38;5;241m1\u001b[39m : index_1807_00001 \u001b[38;5;241m+\u001b[39m \u001b[38;5;241m1\u001b[39m]\n",
      "File \u001b[1;32mc:\\Users\\kimlu\\anaconda3\\envs\\SentimentF23\\Lib\\site-packages\\pandas\\core\\indexes\\base.py:5365\u001b[0m, in \u001b[0;36mIndex.__getitem__\u001b[1;34m(self, key)\u001b[0m\n\u001b[0;32m   5362\u001b[0m \u001b[38;5;28;01mif\u001b[39;00m is_integer(key) \u001b[38;5;129;01mor\u001b[39;00m is_float(key):\n\u001b[0;32m   5363\u001b[0m     \u001b[38;5;66;03m# GH#44051 exclude bool, which would return a 2d ndarray\u001b[39;00m\n\u001b[0;32m   5364\u001b[0m     key \u001b[38;5;241m=\u001b[39m com\u001b[38;5;241m.\u001b[39mcast_scalar_indexer(key)\n\u001b[1;32m-> 5365\u001b[0m     \u001b[38;5;28;01mreturn\u001b[39;00m getitem(key)\n\u001b[0;32m   5367\u001b[0m \u001b[38;5;28;01mif\u001b[39;00m \u001b[38;5;28misinstance\u001b[39m(key, \u001b[38;5;28mslice\u001b[39m):\n\u001b[0;32m   5368\u001b[0m     \u001b[38;5;66;03m# This case is separated from the conditional above to avoid\u001b[39;00m\n\u001b[0;32m   5369\u001b[0m     \u001b[38;5;66;03m# pessimization com.is_bool_indexer and ndim checks.\u001b[39;00m\n\u001b[0;32m   5370\u001b[0m     \u001b[38;5;28;01mreturn\u001b[39;00m \u001b[38;5;28mself\u001b[39m\u001b[38;5;241m.\u001b[39m_getitem_slice(key)\n",
      "\u001b[1;31mIndexError\u001b[0m: index 0 is out of bounds for axis 0 with size 0"
     ]
    }
   ],
   "source": [
    "# Exploratory -- Based on this example, the abstract number appears to reset when the month changes\n",
    "# Find the index of the row with '1807.0001'\n",
    "index_1807_00001 = df[df['id'] == '1807.00001'].index[0]\n",
    "\n",
    "# Access the rows around '1807.0001' using iloc\n",
    "df_selected = df.iloc[index_1807_00001 - 1 : index_1807_00001 + 1]\n",
    "\n",
    "# Display the DataFrame\n",
    "df_selected"
   ]
  }
 ],
 "metadata": {
  "kernelspec": {
   "display_name": "SentimentF23",
   "language": "python",
   "name": "python3"
  },
  "language_info": {
   "codemirror_mode": {
    "name": "ipython",
    "version": 3
   },
   "file_extension": ".py",
   "mimetype": "text/x-python",
   "name": "python",
   "nbconvert_exporter": "python",
   "pygments_lexer": "ipython3",
   "version": "3.11.5"
  }
 },
 "nbformat": 4,
 "nbformat_minor": 2
}
