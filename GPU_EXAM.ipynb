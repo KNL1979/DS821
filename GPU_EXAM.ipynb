{
 "cells": [
  {
   "cell_type": "markdown",
   "metadata": {},
   "source": [
    "Import libraries"
   ]
  },
  {
   "cell_type": "code",
   "execution_count": 32,
   "metadata": {},
   "outputs": [],
   "source": [
    "#!pip install pyarrow\n",
    "import numpy as np\n",
    "import pandas as pd\n",
    "import pyarrow.parquet as pq\n",
    "from pathlib import Path\n",
    "from datetime import datetime\n",
    "import re\n",
    "import os\n",
    "import random"
   ]
  },
  {
   "cell_type": "markdown",
   "metadata": {},
   "source": [
    "Setting the current working directory"
   ]
  },
  {
   "cell_type": "code",
   "execution_count": 33,
   "metadata": {},
   "outputs": [],
   "source": [
    "script_directory = os.getcwd()\n",
    "os.chdir(script_directory)"
   ]
  },
  {
   "cell_type": "markdown",
   "metadata": {},
   "source": [
    "Load data"
   ]
  },
  {
   "cell_type": "code",
   "execution_count": 35,
   "metadata": {},
   "outputs": [
    {
     "data": {
      "text/html": [
       "<div>\n",
       "<style scoped>\n",
       "    .dataframe tbody tr th:only-of-type {\n",
       "        vertical-align: middle;\n",
       "    }\n",
       "\n",
       "    .dataframe tbody tr th {\n",
       "        vertical-align: top;\n",
       "    }\n",
       "\n",
       "    .dataframe thead th {\n",
       "        text-align: right;\n",
       "    }\n",
       "</style>\n",
       "<table border=\"1\" class=\"dataframe\">\n",
       "  <thead>\n",
       "    <tr style=\"text-align: right;\">\n",
       "      <th></th>\n",
       "      <th>id</th>\n",
       "      <th>submitter</th>\n",
       "      <th>authors</th>\n",
       "      <th>title</th>\n",
       "      <th>comments</th>\n",
       "      <th>journal-ref</th>\n",
       "      <th>doi</th>\n",
       "      <th>abstract</th>\n",
       "      <th>report-no</th>\n",
       "      <th>categories</th>\n",
       "      <th>versions</th>\n",
       "    </tr>\n",
       "  </thead>\n",
       "  <tbody>\n",
       "    <tr>\n",
       "      <th>0</th>\n",
       "      <td>1609.05192</td>\n",
       "      <td>Eduardo Guerras</td>\n",
       "      <td>Eduardo Guerras, Xinyu Dai, Shaun Steele, Ang ...</td>\n",
       "      <td>Extended X-ray Monitoring of Gravitational Len...</td>\n",
       "      <td>None</td>\n",
       "      <td>None</td>\n",
       "      <td>10.3847/1538-4357/aa5728</td>\n",
       "      <td>We present an X-ray photometric analysis of ...</td>\n",
       "      <td>None</td>\n",
       "      <td>[astro-ph.HE astro-ph.GA]</td>\n",
       "      <td>[v1, v2]</td>\n",
       "    </tr>\n",
       "    <tr>\n",
       "      <th>1</th>\n",
       "      <td>astro-ph/0205047</td>\n",
       "      <td>Belli Pierluigi</td>\n",
       "      <td>R. Bernabei, M. Amato, P. Belli, F. Cappella, ...</td>\n",
       "      <td>WIMP Search by DAMA at Gran Sasso</td>\n",
       "      <td>Talk at DARK2002 Conference, Cape Town, South ...</td>\n",
       "      <td>\"Dark matter in astro- and particle Physics\", ...</td>\n",
       "      <td>10.1016/S0920-5632(03)02101-7</td>\n",
       "      <td>DAMA is searching for rare processes by deve...</td>\n",
       "      <td>None</td>\n",
       "      <td>[astro-ph]</td>\n",
       "      <td>[v1]</td>\n",
       "    </tr>\n",
       "    <tr>\n",
       "      <th>2</th>\n",
       "      <td>0804.3607</td>\n",
       "      <td>Lilia Solovyeva</td>\n",
       "      <td>L. Solovyeva, S. Anokhin, L. Feretti, J.L. Sau...</td>\n",
       "      <td>The dynamical state of A548 from XMM-Newton da...</td>\n",
       "      <td>A&amp;A, accepted March 20, 2008, (better quality ...</td>\n",
       "      <td>None</td>\n",
       "      <td>10.1051/0004-6361:200809445</td>\n",
       "      <td>We present a detailed study of the X-ray pro...</td>\n",
       "      <td>None</td>\n",
       "      <td>[astro-ph]</td>\n",
       "      <td>[v1, v2]</td>\n",
       "    </tr>\n",
       "    <tr>\n",
       "      <th>3</th>\n",
       "      <td>2012.12678</td>\n",
       "      <td>David Young</td>\n",
       "      <td>David R. Young, Marco Landoni, Stephen J. Smar...</td>\n",
       "      <td>The SOXS Data-Reduction Pipeline</td>\n",
       "      <td>15 pages, 11 figures. SPIE 2020</td>\n",
       "      <td>None</td>\n",
       "      <td>None</td>\n",
       "      <td>The SOXS is a dual-arm spectrograph (UV-VIS ...</td>\n",
       "      <td>None</td>\n",
       "      <td>[astro-ph.IM]</td>\n",
       "      <td>[v1]</td>\n",
       "    </tr>\n",
       "    <tr>\n",
       "      <th>4</th>\n",
       "      <td>cs/0106046</td>\n",
       "      <td>Floris Geerts</td>\n",
       "      <td>Floris Geerts</td>\n",
       "      <td>Expressing the cone radius in the relational c...</td>\n",
       "      <td>9 pages</td>\n",
       "      <td>None</td>\n",
       "      <td>None</td>\n",
       "      <td>We show that there is a query expressible in...</td>\n",
       "      <td>None</td>\n",
       "      <td>[cs.DB cs.LO]</td>\n",
       "      <td>[v1]</td>\n",
       "    </tr>\n",
       "  </tbody>\n",
       "</table>\n",
       "</div>"
      ],
      "text/plain": [
       "                 id        submitter  \\\n",
       "0        1609.05192  Eduardo Guerras   \n",
       "1  astro-ph/0205047  Belli Pierluigi   \n",
       "2         0804.3607  Lilia Solovyeva   \n",
       "3        2012.12678      David Young   \n",
       "4        cs/0106046    Floris Geerts   \n",
       "\n",
       "                                             authors  \\\n",
       "0  Eduardo Guerras, Xinyu Dai, Shaun Steele, Ang ...   \n",
       "1  R. Bernabei, M. Amato, P. Belli, F. Cappella, ...   \n",
       "2  L. Solovyeva, S. Anokhin, L. Feretti, J.L. Sau...   \n",
       "3  David R. Young, Marco Landoni, Stephen J. Smar...   \n",
       "4                                      Floris Geerts   \n",
       "\n",
       "                                               title  \\\n",
       "0  Extended X-ray Monitoring of Gravitational Len...   \n",
       "1                  WIMP Search by DAMA at Gran Sasso   \n",
       "2  The dynamical state of A548 from XMM-Newton da...   \n",
       "3                   The SOXS Data-Reduction Pipeline   \n",
       "4  Expressing the cone radius in the relational c...   \n",
       "\n",
       "                                            comments  \\\n",
       "0                                               None   \n",
       "1  Talk at DARK2002 Conference, Cape Town, South ...   \n",
       "2  A&A, accepted March 20, 2008, (better quality ...   \n",
       "3                    15 pages, 11 figures. SPIE 2020   \n",
       "4                                            9 pages   \n",
       "\n",
       "                                         journal-ref  \\\n",
       "0                                               None   \n",
       "1  \"Dark matter in astro- and particle Physics\", ...   \n",
       "2                                               None   \n",
       "3                                               None   \n",
       "4                                               None   \n",
       "\n",
       "                             doi  \\\n",
       "0       10.3847/1538-4357/aa5728   \n",
       "1  10.1016/S0920-5632(03)02101-7   \n",
       "2    10.1051/0004-6361:200809445   \n",
       "3                           None   \n",
       "4                           None   \n",
       "\n",
       "                                            abstract report-no  \\\n",
       "0    We present an X-ray photometric analysis of ...      None   \n",
       "1    DAMA is searching for rare processes by deve...      None   \n",
       "2    We present a detailed study of the X-ray pro...      None   \n",
       "3    The SOXS is a dual-arm spectrograph (UV-VIS ...      None   \n",
       "4    We show that there is a query expressible in...      None   \n",
       "\n",
       "                  categories  versions  \n",
       "0  [astro-ph.HE astro-ph.GA]  [v1, v2]  \n",
       "1                 [astro-ph]      [v1]  \n",
       "2                 [astro-ph]  [v1, v2]  \n",
       "3              [astro-ph.IM]      [v1]  \n",
       "4              [cs.DB cs.LO]      [v1]  "
      ]
     },
     "execution_count": 35,
     "metadata": {},
     "output_type": "execute_result"
    }
   ],
   "source": [
    "import gzip\n",
    "import json\n",
    "# Specify the path to your JSON Lines file\n",
    "file_path = 'Arxiv_data/arxiv-abstracts.jsonl.gz'\n",
    "\n",
    "# Open the gzipped JSON Lines file\n",
    "with gzip.open(file_path, 'rt', encoding='utf-8') as file:\n",
    "    # Read a random subset of lines (adjust the sample_size as needed)\n",
    "    sample_size = 500000  # Adjust this number as needed\n",
    "    data = [json.loads(line) for line in random.sample(file.readlines(), sample_size)]\n",
    "\n",
    "# Convert the list of dictionaries into a pandas DataFrame\n",
    "df = pd.DataFrame(data)\n",
    "\n",
    "# Display the first few rows of the DataFrame\n",
    "df.head()"
   ]
  },
  {
   "cell_type": "markdown",
   "metadata": {},
   "source": [
    "Function to encode abstracts with 'dates'"
   ]
  },
  {
   "cell_type": "code",
   "execution_count": 36,
   "metadata": {},
   "outputs": [
    {
     "data": {
      "text/html": [
       "<div>\n",
       "<style scoped>\n",
       "    .dataframe tbody tr th:only-of-type {\n",
       "        vertical-align: middle;\n",
       "    }\n",
       "\n",
       "    .dataframe tbody tr th {\n",
       "        vertical-align: top;\n",
       "    }\n",
       "\n",
       "    .dataframe thead th {\n",
       "        text-align: right;\n",
       "    }\n",
       "</style>\n",
       "<table border=\"1\" class=\"dataframe\">\n",
       "  <thead>\n",
       "    <tr style=\"text-align: right;\">\n",
       "      <th></th>\n",
       "      <th>id</th>\n",
       "      <th>submitter</th>\n",
       "      <th>authors</th>\n",
       "      <th>title</th>\n",
       "      <th>comments</th>\n",
       "      <th>journal-ref</th>\n",
       "      <th>doi</th>\n",
       "      <th>abstract</th>\n",
       "      <th>report-no</th>\n",
       "      <th>categories</th>\n",
       "      <th>versions</th>\n",
       "      <th>publication_date</th>\n",
       "    </tr>\n",
       "  </thead>\n",
       "  <tbody>\n",
       "    <tr>\n",
       "      <th>0</th>\n",
       "      <td>1609.05192</td>\n",
       "      <td>Eduardo Guerras</td>\n",
       "      <td>Eduardo Guerras, Xinyu Dai, Shaun Steele, Ang ...</td>\n",
       "      <td>Extended X-ray Monitoring of Gravitational Len...</td>\n",
       "      <td>None</td>\n",
       "      <td>None</td>\n",
       "      <td>10.3847/1538-4357/aa5728</td>\n",
       "      <td>We present an X-ray photometric analysis of ...</td>\n",
       "      <td>None</td>\n",
       "      <td>[astro-ph.HE astro-ph.GA]</td>\n",
       "      <td>[v1, v2]</td>\n",
       "      <td>2016-09-01</td>\n",
       "    </tr>\n",
       "    <tr>\n",
       "      <th>1</th>\n",
       "      <td>astro-ph/0205047</td>\n",
       "      <td>Belli Pierluigi</td>\n",
       "      <td>R. Bernabei, M. Amato, P. Belli, F. Cappella, ...</td>\n",
       "      <td>WIMP Search by DAMA at Gran Sasso</td>\n",
       "      <td>Talk at DARK2002 Conference, Cape Town, South ...</td>\n",
       "      <td>\"Dark matter in astro- and particle Physics\", ...</td>\n",
       "      <td>10.1016/S0920-5632(03)02101-7</td>\n",
       "      <td>DAMA is searching for rare processes by deve...</td>\n",
       "      <td>None</td>\n",
       "      <td>[astro-ph]</td>\n",
       "      <td>[v1]</td>\n",
       "      <td>2002-05-01</td>\n",
       "    </tr>\n",
       "    <tr>\n",
       "      <th>2</th>\n",
       "      <td>0804.3607</td>\n",
       "      <td>Lilia Solovyeva</td>\n",
       "      <td>L. Solovyeva, S. Anokhin, L. Feretti, J.L. Sau...</td>\n",
       "      <td>The dynamical state of A548 from XMM-Newton da...</td>\n",
       "      <td>A&amp;A, accepted March 20, 2008, (better quality ...</td>\n",
       "      <td>None</td>\n",
       "      <td>10.1051/0004-6361:200809445</td>\n",
       "      <td>We present a detailed study of the X-ray pro...</td>\n",
       "      <td>None</td>\n",
       "      <td>[astro-ph]</td>\n",
       "      <td>[v1, v2]</td>\n",
       "      <td>2008-04-01</td>\n",
       "    </tr>\n",
       "    <tr>\n",
       "      <th>3</th>\n",
       "      <td>2012.12678</td>\n",
       "      <td>David Young</td>\n",
       "      <td>David R. Young, Marco Landoni, Stephen J. Smar...</td>\n",
       "      <td>The SOXS Data-Reduction Pipeline</td>\n",
       "      <td>15 pages, 11 figures. SPIE 2020</td>\n",
       "      <td>None</td>\n",
       "      <td>None</td>\n",
       "      <td>The SOXS is a dual-arm spectrograph (UV-VIS ...</td>\n",
       "      <td>None</td>\n",
       "      <td>[astro-ph.IM]</td>\n",
       "      <td>[v1]</td>\n",
       "      <td>2020-12-01</td>\n",
       "    </tr>\n",
       "    <tr>\n",
       "      <th>4</th>\n",
       "      <td>cs/0106046</td>\n",
       "      <td>Floris Geerts</td>\n",
       "      <td>Floris Geerts</td>\n",
       "      <td>Expressing the cone radius in the relational c...</td>\n",
       "      <td>9 pages</td>\n",
       "      <td>None</td>\n",
       "      <td>None</td>\n",
       "      <td>We show that there is a query expressible in...</td>\n",
       "      <td>None</td>\n",
       "      <td>[cs.DB cs.LO]</td>\n",
       "      <td>[v1]</td>\n",
       "      <td>2001-06-01</td>\n",
       "    </tr>\n",
       "  </tbody>\n",
       "</table>\n",
       "</div>"
      ],
      "text/plain": [
       "                 id        submitter  \\\n",
       "0        1609.05192  Eduardo Guerras   \n",
       "1  astro-ph/0205047  Belli Pierluigi   \n",
       "2         0804.3607  Lilia Solovyeva   \n",
       "3        2012.12678      David Young   \n",
       "4        cs/0106046    Floris Geerts   \n",
       "\n",
       "                                             authors  \\\n",
       "0  Eduardo Guerras, Xinyu Dai, Shaun Steele, Ang ...   \n",
       "1  R. Bernabei, M. Amato, P. Belli, F. Cappella, ...   \n",
       "2  L. Solovyeva, S. Anokhin, L. Feretti, J.L. Sau...   \n",
       "3  David R. Young, Marco Landoni, Stephen J. Smar...   \n",
       "4                                      Floris Geerts   \n",
       "\n",
       "                                               title  \\\n",
       "0  Extended X-ray Monitoring of Gravitational Len...   \n",
       "1                  WIMP Search by DAMA at Gran Sasso   \n",
       "2  The dynamical state of A548 from XMM-Newton da...   \n",
       "3                   The SOXS Data-Reduction Pipeline   \n",
       "4  Expressing the cone radius in the relational c...   \n",
       "\n",
       "                                            comments  \\\n",
       "0                                               None   \n",
       "1  Talk at DARK2002 Conference, Cape Town, South ...   \n",
       "2  A&A, accepted March 20, 2008, (better quality ...   \n",
       "3                    15 pages, 11 figures. SPIE 2020   \n",
       "4                                            9 pages   \n",
       "\n",
       "                                         journal-ref  \\\n",
       "0                                               None   \n",
       "1  \"Dark matter in astro- and particle Physics\", ...   \n",
       "2                                               None   \n",
       "3                                               None   \n",
       "4                                               None   \n",
       "\n",
       "                             doi  \\\n",
       "0       10.3847/1538-4357/aa5728   \n",
       "1  10.1016/S0920-5632(03)02101-7   \n",
       "2    10.1051/0004-6361:200809445   \n",
       "3                           None   \n",
       "4                           None   \n",
       "\n",
       "                                            abstract report-no  \\\n",
       "0    We present an X-ray photometric analysis of ...      None   \n",
       "1    DAMA is searching for rare processes by deve...      None   \n",
       "2    We present a detailed study of the X-ray pro...      None   \n",
       "3    The SOXS is a dual-arm spectrograph (UV-VIS ...      None   \n",
       "4    We show that there is a query expressible in...      None   \n",
       "\n",
       "                  categories  versions publication_date  \n",
       "0  [astro-ph.HE astro-ph.GA]  [v1, v2]       2016-09-01  \n",
       "1                 [astro-ph]      [v1]       2002-05-01  \n",
       "2                 [astro-ph]  [v1, v2]       2008-04-01  \n",
       "3              [astro-ph.IM]      [v1]       2020-12-01  \n",
       "4              [cs.DB cs.LO]      [v1]       2001-06-01  "
      ]
     },
     "execution_count": 36,
     "metadata": {},
     "output_type": "execute_result"
    }
   ],
   "source": [
    "# Extract publication dates from arXiv IDs and create a new 'publication_date' column\n",
    "def extract_date(x):\n",
    "    year_month = re.search(r'(\\d{2})(\\d{2})', x)\n",
    "    if year_month:\n",
    "        year, month = year_month.groups()\n",
    "        return datetime.strptime(f\"{year}-{month}-01\", \"%y-%m-%d\")\n",
    "    else:\n",
    "        return None\n",
    "\n",
    "df['publication_date'] = df['id'].apply(extract_date)\n",
    "\n",
    "# Display the first few rows of the DataFrame with the new 'publication_date' column\n",
    "df.head()"
   ]
  },
  {
   "cell_type": "markdown",
   "metadata": {},
   "source": [
    "Sort the dataframe wrt. publication 'date'"
   ]
  },
  {
   "cell_type": "code",
   "execution_count": 37,
   "metadata": {},
   "outputs": [],
   "source": [
    "# Sort the DataFrame in descending order based on 'publication_date'\n",
    "df_sorted = df.sort_values(by='publication_date', ascending=False)\n",
    "\n",
    "# Display the sorted DataFrame\n",
    "#df_sorted.tail()\n",
    "#df_sorted.head()"
   ]
  },
  {
   "cell_type": "markdown",
   "metadata": {},
   "source": [
    "## What topics were hot during covid?"
   ]
  },
  {
   "cell_type": "code",
   "execution_count": 38,
   "metadata": {},
   "outputs": [
    {
     "data": {
      "text/plain": [
       "(87183, 12)"
      ]
     },
     "execution_count": 38,
     "metadata": {},
     "output_type": "execute_result"
    }
   ],
   "source": [
    "# Subset the sorted DataFrame based on the COVID-19 period feb. 2020 - dec 2021\n",
    "df_covid = df_sorted[(df_sorted['publication_date'] >= '2020-02-01')]\n",
    "\n",
    "df_covid.head()\n",
    "df_covid.tail()\n",
    "\n",
    "df_covid.shape"
   ]
  },
  {
   "cell_type": "markdown",
   "metadata": {},
   "source": [
    "**Topic Modelling with Latent Dirichlet Analysis (LDA) on abstracts from articles published during COVID-19:**"
   ]
  },
  {
   "cell_type": "markdown",
   "metadata": {},
   "source": [
    "1. Data preprocessing"
   ]
  },
  {
   "cell_type": "code",
   "execution_count": null,
   "metadata": {},
   "outputs": [],
   "source": [
    "###########################################################################\n",
    "###  Function to subset the df_covid dataframe for faster code testing. ###\n",
    "###  Run with the entire df_covid for final run.                        ###\n",
    "###########################################################################\n",
    "## MAYBE NOT NECESSARY WHEN GPU - CHECK THIS\n",
    "import pandas as pd\n",
    "\n",
    "def subset_dataframe_percentage(df, percentage):\n",
    "       # Subset based on the date range\n",
    "    df_covid = df[df['publication_date'] >= '2020-02-01']\n",
    "\n",
    "    # Calculate the number of rows based on the percentage\n",
    "    num_rows = int(percentage * len(df_covid))\n",
    "\n",
    "    # Use sample to randomly select rows\n",
    "    subset = df_covid.sample(n=num_rows, random_state=42)  # You can change the random_state if needed\n",
    "\n",
    "    return subset\n",
    "\n",
    "# Assuming df_sorted is your original DataFrame\n",
    "percentage_to_subset = 0.2  # Change this value to the desired percentage\n",
    "df_covid_subset = subset_dataframe_percentage(df_covid, percentage_to_subset)\n",
    "\n",
    "# Print the head, tail, and shape of the subset\n",
    "print(f\"Subset shape: {df_covid_subset.shape}\")"
   ]
  },
  {
   "cell_type": "code",
   "execution_count": 40,
   "metadata": {},
   "outputs": [
    {
     "name": "stdout",
     "output_type": "stream",
     "text": [
      "Example cleaned abstracts:\n",
      "Abstract 1: origin supermassive black hole early universe redshift z 7 remains poorly understood gravitational collapse massive primordial gas cloud promising initial process theoretical study difficulty growing black hole fast enough focus magnetic effect star formation occurs gas cloud using set magnetohydrodynamic mhd simulation investigate star formation process magnetized gas cloud different initial magnetic field strength simulation show primordial magnetic seed field quickly amplified early accretion phase first protostar formation strong magnetic field efficiently extract angular momentum accreting gas increase accretion rate result high fragmentation rate gravitationally unstable disk region hand coalescence rate fragment also enhanced angular momentum transfer due magnetic effect almost fragment coalesce primary star mass growth rate massive star increase due magnetic effect conclude magnetic effect support direct collapse scenario supermassive star formation\n",
      "Abstract 2: computed tomography commonly used technique noninvasive imaging synchrotron facility iterative tomographic reconstruction algorithm often preferred recovering high quality 3d volumetric image 2d image however use ha limited datasets due computational requirement paper propose iterative reconstruction system terabyte 3d volume design involves three novel optimization 1 optimization back projection operator extending 2d approach 3d 2 performing hierarchical communication exploiting architecture many gpus 3 utilization type preserving convergence rate quality extensively evaluate proposed optimization scaling summit supercomputer largest reconstruction mouse brain volume 9kx11kx11k voxels total reconstruction time three minute using gpus reaching 65 pflops 34 summit peak performance\n",
      "Abstract 3: evolution robotic design paradigm decomposes design problem layered involve concurrent search appropriate material component geometry overall morphology three layer operate goal building library diverse candidate solution used either building block layer provided decision maker final use paper provide theoretical discussion concept technology could potentially used building block framework\n",
      "Abstract 4: atlas experiment large hadron collider lhc employ trigger system consisting hardware trigger l1 trigger l1 muon trigger system selects muon candidate assigns correct lhc bunch crossing classifies one six threshold class l1 muon trigger system us chamber rpcs generate trigger signal central barrel region atlas detector atlas rpcs arranged six concentric layer operate toroidal magnetic field bending power tm rpc detector consists 3700 gas volume total surface area 4000 paper report performance rpc detector l1 muon barrel trigger using fb collision data recorded atlas experiment 2018 energy 13 tev detector trigger performance studied using z boson decay muon pair measurement rpc detector response efficiency time resolution reported measurement l1 muon barrel trigger efficiency rate presented along measurement property selected sample muon candidate measurement rpc current counting rate mean avalanche charge performed using collision finally rpc detector response efficiency studied different high voltage discriminator threshold setting order extrapolate detector response higher luminosity expected high luminosity lhc\n",
      "Abstract 5: study several problem geometric packing covering movement given family n interval distinct length another interval b pack interval inside b respectively cover b interval moving interval keeping n interval unmoved show packing covering w 1 one single parameter fpt combined parameter also obtain improved algorithm packing covering including n time algorithm covering interval length\n"
     ]
    }
   ],
   "source": [
    "#!pip install nltk\n",
    "import random\n",
    "import nltk\n",
    "#nltk.download('wordnet')\n",
    "#nltk.download('stopwords')\n",
    "#nltk.download('punkt')\n",
    "from nltk.stem import WordNetLemmatizer\n",
    "from nltk.corpus import stopwords\n",
    "from nltk.tokenize import word_tokenize\n",
    "from sklearn.feature_extraction.text import CountVectorizer\n",
    "\n",
    "# Assuming df is your DataFrame and 'abstract' is the column with abstracts\n",
    "abstracts = df_covid['abstract'].tolist()\n",
    "# Shuffle the abstracts for variety\n",
    "random.shuffle(abstracts)\n",
    "\n",
    "# Load lemmatizer\n",
    "lemmatizer = WordNetLemmatizer()                # The process of lemmatization reduces words to their base or root form (Grouping together different forms of the same word).\n",
    "stop_words = set(stopwords.words('english'))    # Common words are removed as they often does not contribute the overall meaning of the text.\n",
    "\n",
    "# Process each abstract by tokenizing, lemmatizing, and removing stop words - resulting in the cleaned_abstracts list containing the cleaned documents.\n",
    "cleaned_abstracts = []\n",
    "for abstract in abstracts:\n",
    "    # Tokenize and lemmatize\n",
    "    tokens = word_tokenize(abstract.lower())\n",
    "    lemmatized_tokens = [lemmatizer.lemmatize(token) for token in tokens if token.isalnum()] #isalnum checks whether all characters in the token are alphanumeric. Helps filter out tokens that may contain non-alphanumeric characters before lemmatizing \n",
    "    # Remove stop words\n",
    "    filtered_tokens = [token for token in lemmatized_tokens if token not in stop_words]\n",
    "    cleaned_abstracts.append(' '.join(filtered_tokens))\n",
    "\n",
    "# VISUALIZE SOME CLEANED_ABSTRACTS\n",
    "print(\"Example cleaned abstracts:\")\n",
    "for i in range(5):\n",
    "    print(f\"Abstract {i + 1}: {cleaned_abstracts[i]}\")\n",
    "\n",
    "#  Utilizing CountVectorizer() to create a Bag of Words matrix (X) where each row represents an abstract,\n",
    "#  and each column represents a unique word in the vocabulary - The cells represent the counts.\n",
    "vectorizer = CountVectorizer()\n",
    "X = vectorizer.fit_transform(cleaned_abstracts)"
   ]
  },
  {
   "cell_type": "markdown",
   "metadata": {},
   "source": [
    "2. Dimensionality reduction"
   ]
  },
  {
   "cell_type": "code",
   "execution_count": 42,
   "metadata": {},
   "outputs": [
    {
     "name": "stdout",
     "output_type": "stream",
     "text": [
      "Shape after filtering: (87183, 99513)\n",
      "Shape after dimension reduction: (87183, 5333)\n"
     ]
    }
   ],
   "source": [
    "print(f'Shape after filtering: {X.shape}')\n",
    "# At this point we have our feature matrix X containing Bag of Word representation of our abstracts. The abstracts has been lemmatized and stopwords has been removed.\n",
    "# Each row in X represents an abstract, and each column represents a unique word in the vocabulary.\n",
    "# There are 88103 columns after vectorizing, representing 88103 unique words.\n",
    "\n",
    "# The sum of each column will represent the total count of the unique words across all the abstracts in the subsetted corpus.\n",
    "word_frequencies = X.sum(axis=0)\n",
    "#print(word_frequencies)\n",
    "\n",
    "# Convert to a numpy array for easier manipulation\n",
    "word_frequencies_array = word_frequencies.A1\n",
    "\n",
    "# Sort indices in descending order based on wordfrequencies\n",
    "sorted_indices = np.argsort(word_frequencies_array)[::-1]\n",
    "\n",
    "# Calculate the cumulative sum of word frequencies\n",
    "cumulative_sum = np.cumsum(word_frequencies_array[sorted_indices])\n",
    "\n",
    "# Calculate the total sum of word frequencies\n",
    "total_sum = cumulative_sum[-1]\n",
    "\n",
    "# Set the percentage of top words to keep\n",
    "percentage_to_keep = 0.90\n",
    "\n",
    "# Find the index where cumulative sum exceeds the specified percentage of total tokens\n",
    "threshold_index = np.argmax(cumulative_sum >= percentage_to_keep * total_sum)\n",
    "\n",
    "# Select only the top elements up to the threshold index\n",
    "selected_indices = sorted_indices[:threshold_index + 1]\n",
    "X_filtered = X[:, selected_indices]\n",
    "\n",
    "# Extract liste of words in retained parts of X\n",
    "feature_names = np.array(vectorizer.get_feature_names_out())\n",
    "retained_tokens = feature_names[selected_indices].tolist()\n",
    "\n",
    "print(f'Shape after dimension reduction: {X_filtered.shape}') # Fewer columns - reduced from 60,903 to 5,288."
   ]
  },
  {
   "cell_type": "markdown",
   "metadata": {},
   "source": [
    "3. Determine the optimal number of topics using elbow point"
   ]
  },
  {
   "cell_type": "code",
   "execution_count": 51,
   "metadata": {},
   "outputs": [
    {
     "name": "stdout",
     "output_type": "stream",
     "text": [
      "fitting num_topics = 5\n",
      "perplexity for 5 topics: 1630.1972420016548\n",
      "fitting num_topics = 6\n",
      "perplexity for 6 topics: 1555.8755669643056\n",
      "fitting num_topics = 7\n",
      "perplexity for 7 topics: 1548.1930213614025\n",
      "Differences in perplexity: [-74.32167504  -7.6825456 ]\n"
     ]
    },
    {
     "data": {
      "image/png": "[encoded data removed]",
      "text/plain": [
       "<Figure size 640x480 with 1 Axes>"
      ]
     },
     "metadata": {},
     "output_type": "display_data"
    },
    {
     "name": "stdout",
     "output_type": "stream",
     "text": [
      "Optimal Number of Topics (Elbow Point): 6\n"
     ]
    }
   ],
   "source": [
    "from sklearn.decomposition import LatentDirichletAllocation\n",
    "import matplotlib.pyplot as plt\n",
    "\n",
    "# Input the Bag of Words representation (X_filtered) as input to LDA to discover underlying topics in your abstracts based on word co-occurrence patterns.\n",
    "\n",
    "# Initialize an empty list to store evaluation metric values\n",
    "eval_metric_values = []\n",
    "\n",
    "# Define the range of number of topics to be tried\n",
    "num_topics_range = range(5, 8)\n",
    "\n",
    "# Loop over each number of topics\n",
    "for num_topics in num_topics_range:\n",
    "    print(f'fitting num_topics = {num_topics}')\n",
    "\n",
    "    # Create an LDA model with the current number of topics\n",
    "    lda = LatentDirichletAllocation(n_components=num_topics, random_state=42)\n",
    "    # Fit the LDA model to the filtered feature matrix (X_filtered)\n",
    "    lda.fit(X_filtered)\n",
    "\n",
    "    # Evaluation metric (perplexity --> measures coherence within topics)\n",
    "    perplexity = lda.perplexity(X_filtered)\n",
    "    print(f'perplexity for {num_topics} topics: {perplexity}')\n",
    "\n",
    "    eval_metric_values.append(perplexity)\n",
    "\n",
    " \n",
    "# Identify the elbow point using differences in perplexity values\n",
    "diffs = np.diff(eval_metric_values)\n",
    "print(\"Differences in perplexity:\", diffs)\n",
    "\n",
    "# Find the index where the rate of change (slope) decreases the most\n",
    "elbow_point = np.argmin(diffs) + 6  # Add 6 because we started from num_topics=5\n",
    "\n",
    "# Plot the evaluation metric values against the number of topics\n",
    "plt.plot(num_topics_range, eval_metric_values, marker='x')\n",
    "plt.title('Elbow Method for Optimal Number of Topics')\n",
    "plt.xlabel('Number of Topics')\n",
    "plt.ylabel('Perplexity')\n",
    "\n",
    "# Mark the elbow point on the plot\n",
    "plt.scatter(elbow_point, eval_metric_values[elbow_point - 5], c='red', label='Elbow Point', marker='o', s=50)\n",
    "plt.legend()\n",
    "\n",
    "plt.show()\n",
    "\n",
    "# Print the identified optimal number of topics\n",
    "print(f\"Optimal Number of Topics (Elbow Point): {elbow_point}\")\n",
    "\n"
   ]
  },
  {
   "cell_type": "code",
   "execution_count": null,
   "metadata": {},
   "outputs": [],
   "source": [
    "from gensim.corpora import Dictionary\n",
    "from gensim.models import CoherenceModel\n",
    "import gensim\n",
    "\n",
    "# Convert cleaned_abstracts to a list of lists\n",
    "tokenized_abstracts = [doc.split() for doc in cleaned_abstracts]\n",
    "\n",
    "# Create a Gensim Dictionary\n",
    "gensim_dictionary = Dictionary(tokenized_abstracts)\n",
    "\n",
    "# Initialize an empty list to store evaluation metric values\n",
    "eval_metric_values = []\n",
    "\n",
    "# Define the range of number of topics to be tried\n",
    "num_topics_range = range(5, 13)\n",
    "\n",
    "# Convert your Bag of Words matrix to Gensim format\n",
    "corpus = gensim.matutils.Sparse2Corpus(X_filtered.T)\n",
    "\n",
    "# Loop over each number of topics\n",
    "for num_topics in num_topics_range:\n",
    "    print(f'fitting num_topics = {num_topics}')\n",
    "\n",
    "    # Create an LDA model with the current number of topics\n",
    "    lda = LatentDirichletAllocation(n_components=num_topics, random_state=42)\n",
    "    # Fit the LDA model to the filtered feature matrix (X_filtered)\n",
    "    lda.fit(X_filtered)\n",
    "\n",
    "    # Convert the LDA model to Gensim format\n",
    "    lda_gensim = gensim.models.ldamodel.LdaModel(corpus, num_topics=num_topics, id2word=dict(enumerate(feature_names)))\n",
    "\n",
    "    # Calculate coherence\n",
    "    coherence_model_lda = CoherenceModel(model=lda_gensim, texts=tokenized_abstracts, dictionary=gensim_dictionary, coherence='c_v')\n",
    "\n",
    "    coherence = coherence_model_lda.get_coherence()\n",
    "    print(f'coherence for {num_topics} topics: {coherence}')\n",
    "\n",
    "    eval_metric_values.append(coherence)\n",
    "\n",
    "\n",
    "diffs = np.diff(eval_metric_values)\n",
    "print(\"Differences in coherence:\", diffs)"
   ]
  },
  {
   "cell_type": "code",
   "execution_count": 48,
   "metadata": {},
   "outputs": [
    {
     "data": {
      "image/png": "[encoded data removed]",
      "text/plain": [
       "<Figure size 640x480 with 1 Axes>"
      ]
     },
     "metadata": {},
     "output_type": "display_data"
    },
    {
     "name": "stdout",
     "output_type": "stream",
     "text": [
      "Optimal Number of Topics (Elbow Point): 5\n"
     ]
    }
   ],
   "source": [
    "\n",
    "# Plot the evaluation metric values against the number of topics\n",
    "plt.plot(num_topics_range, eval_metric_values, marker='x')\n",
    "plt.title('Elbow Method for Optimal Number of Topics')\n",
    "plt.xlabel('Number of Topics')\n",
    "plt.ylabel('Coherence')  \n",
    "\n",
    "# Identify the elbow point using differences in coherence values\n",
    "max_coherence_index = eval_metric_values.index(max(eval_metric_values))\n",
    "optimal_num_topics = num_topics_range[max_coherence_index]\n",
    "max_coherence_value = eval_metric_values[max_coherence_index]\n",
    "\n",
    "# Mark the elbow point on the plot\n",
    "plt.scatter(optimal_num_topics, max_coherence_value, c='red', label='Optimal Number of Topics', marker='o', s=50)\n",
    "plt.legend()\n",
    "\n",
    "plt.show()\n",
    "\n",
    "# Print the identified optimal number of topics\n",
    "print(f\"Optimal Number of Topics (Elbow Point): {elbow_point}\")"
   ]
  },
  {
   "cell_type": "markdown",
   "metadata": {},
   "source": [
    "Refitting model with optimal # topics"
   ]
  },
  {
   "cell_type": "code",
   "execution_count": 52,
   "metadata": {},
   "outputs": [
    {
     "data": {
      "text/html": [
       "<style>#sk-container-id-1 {color: black;}#sk-container-id-1 pre{padding: 0;}#sk-container-id-1 div.sk-toggleable {background-color: white;}#sk-container-id-1 label.sk-toggleable__label {cursor: pointer;display: block;width: 100%;margin-bottom: 0;padding: 0.3em;box-sizing: border-box;text-align: center;}#sk-container-id-1 label.sk-toggleable__label-arrow:before {content: \"▸\";float: left;margin-right: 0.25em;color: #696969;}#sk-container-id-1 label.sk-toggleable__label-arrow:hover:before {color: black;}#sk-container-id-1 div.sk-estimator:hover label.sk-toggleable__label-arrow:before {color: black;}#sk-container-id-1 div.sk-toggleable__content {max-height: 0;max-width: 0;overflow: hidden;text-align: left;background-color: #f0f8ff;}#sk-container-id-1 div.sk-toggleable__content pre {margin: 0.2em;color: black;border-radius: 0.25em;background-color: #f0f8ff;}#sk-container-id-1 input.sk-toggleable__control:checked~div.sk-toggleable__content {max-height: 200px;max-width: 100%;overflow: auto;}#sk-container-id-1 input.sk-toggleable__control:checked~label.sk-toggleable__label-arrow:before {content: \"▾\";}#sk-container-id-1 div.sk-estimator input.sk-toggleable__control:checked~label.sk-toggleable__label {background-color: #d4ebff;}#sk-container-id-1 div.sk-label input.sk-toggleable__control:checked~label.sk-toggleable__label {background-color: #d4ebff;}#sk-container-id-1 input.sk-hidden--visually {border: 0;clip: rect(1px 1px 1px 1px);clip: rect(1px, 1px, 1px, 1px);height: 1px;margin: -1px;overflow: hidden;padding: 0;position: absolute;width: 1px;}#sk-container-id-1 div.sk-estimator {font-family: monospace;background-color: #f0f8ff;border: 1px dotted black;border-radius: 0.25em;box-sizing: border-box;margin-bottom: 0.5em;}#sk-container-id-1 div.sk-estimator:hover {background-color: #d4ebff;}#sk-container-id-1 div.sk-parallel-item::after {content: \"\";width: 100%;border-bottom: 1px solid gray;flex-grow: 1;}#sk-container-id-1 div.sk-label:hover label.sk-toggleable__label {background-color: #d4ebff;}#sk-container-id-1 div.sk-serial::before {content: \"\";position: absolute;border-left: 1px solid gray;box-sizing: border-box;top: 0;bottom: 0;left: 50%;z-index: 0;}#sk-container-id-1 div.sk-serial {display: flex;flex-direction: column;align-items: center;background-color: white;padding-right: 0.2em;padding-left: 0.2em;position: relative;}#sk-container-id-1 div.sk-item {position: relative;z-index: 1;}#sk-container-id-1 div.sk-parallel {display: flex;align-items: stretch;justify-content: center;background-color: white;position: relative;}#sk-container-id-1 div.sk-item::before, #sk-container-id-1 div.sk-parallel-item::before {content: \"\";position: absolute;border-left: 1px solid gray;box-sizing: border-box;top: 0;bottom: 0;left: 50%;z-index: -1;}#sk-container-id-1 div.sk-parallel-item {display: flex;flex-direction: column;z-index: 1;position: relative;background-color: white;}#sk-container-id-1 div.sk-parallel-item:first-child::after {align-self: flex-end;width: 50%;}#sk-container-id-1 div.sk-parallel-item:last-child::after {align-self: flex-start;width: 50%;}#sk-container-id-1 div.sk-parallel-item:only-child::after {width: 0;}#sk-container-id-1 div.sk-dashed-wrapped {border: 1px dashed gray;margin: 0 0.4em 0.5em 0.4em;box-sizing: border-box;padding-bottom: 0.4em;background-color: white;}#sk-container-id-1 div.sk-label label {font-family: monospace;font-weight: bold;display: inline-block;line-height: 1.2em;}#sk-container-id-1 div.sk-label-container {text-align: center;}#sk-container-id-1 div.sk-container {/* jupyter's `normalize.less` sets `[hidden] { display: none; }` but bootstrap.min.css set `[hidden] { display: none !important; }` so we also need the `!important` here to be able to override the default hidden behavior on the sphinx rendered scikit-learn.org. See: https://github.com/scikit-learn/scikit-learn/issues/21755 */display: inline-block !important;position: relative;}#sk-container-id-1 div.sk-text-repr-fallback {display: none;}</style><div id=\"sk-container-id-1\" class=\"sk-top-container\"><div class=\"sk-text-repr-fallback\"><pre>LatentDirichletAllocation(n_components=6, random_state=20)</pre><b>In a Jupyter environment, please rerun this cell to show the HTML representation or trust the notebook. <br />On GitHub, the HTML representation is unable to render, please try loading this page with nbviewer.org.</b></div><div class=\"sk-container\" hidden><div class=\"sk-item\"><div class=\"sk-estimator sk-toggleable\"><input class=\"sk-toggleable__control sk-hidden--visually\" id=\"sk-estimator-id-1\" type=\"checkbox\" checked><label for=\"sk-estimator-id-1\" class=\"sk-toggleable__label sk-toggleable__label-arrow\">LatentDirichletAllocation</label><div class=\"sk-toggleable__content\"><pre>LatentDirichletAllocation(n_components=6, random_state=20)</pre></div></div></div></div></div>"
      ],
      "text/plain": [
       "LatentDirichletAllocation(n_components=6, random_state=20)"
      ]
     },
     "execution_count": 52,
     "metadata": {},
     "output_type": "execute_result"
    }
   ],
   "source": [
    "# Refit with optimal topics\n",
    "lda = LatentDirichletAllocation(n_components=elbow_point, random_state=20)\n",
    "lda.fit(X_filtered)"
   ]
  },
  {
   "cell_type": "markdown",
   "metadata": {},
   "source": [
    "Display the top words for each topic"
   ]
  },
  {
   "cell_type": "code",
   "execution_count": 59,
   "metadata": {},
   "outputs": [
    {
     "name": "stdout",
     "output_type": "stream",
     "text": [
      "Top words for each topic:\n",
      "Topic 1: system, network, model, data, paper, performance, learning, control, algorithm, design\n",
      "--------------------------------------------------\n",
      "Topic 2: method, problem, algorithm, model, graph, function, result, show, number, data\n",
      "--------------------------------------------------\n",
      "Topic 3: state, phase, quantum, magnetic, field, effect, system, temperature, energy, transition\n",
      "--------------------------------------------------\n",
      "Topic 4: equation, model, theory, result, system, function, solution, space, quantum, field\n",
      "--------------------------------------------------\n",
      "Topic 5: model, data, method, image, learning, network, task, feature, approach, performance\n",
      "--------------------------------------------------\n",
      "Topic 6: star, mass, galaxy, group, model, show, observation, result, find, also\n",
      "--------------------------------------------------\n"
     ]
    }
   ],
   "source": [
    "# Display the top words for each topic\n",
    "feature_names = np.array(vectorizer.get_feature_names_out())[selected_indices]\n",
    "\n",
    "print(\"Top words for each topic:\")\n",
    "for topic_id, topic in enumerate(lda.components_):\n",
    "    top_word_indices = topic.argsort()[:-11:-1]  # Get the indices of the top 10 words\n",
    "    top_words = feature_names[top_word_indices]\n",
    "    print(f\"Topic {topic_id + 1}: {', '.join(top_words)}\\n{'-'*50}\")"
   ]
  },
  {
   "cell_type": "markdown",
   "metadata": {},
   "source": [
    "## NEXT THING ON THE LIST"
   ]
  },
  {
   "cell_type": "code",
   "execution_count": null,
   "metadata": {},
   "outputs": [],
   "source": [
    "# Doing oneshot classification on the abstracts"
   ]
  },
  {
   "cell_type": "code",
   "execution_count": null,
   "metadata": {},
   "outputs": [],
   "source": [
    "# Import the pandas library\n",
    "import pandas as pd\n",
    "\n",
    "# Assuming df is your DataFrame\n",
    "# Filter rows where the 'categories' column contains 'nlp'\n",
    "nlp_papers = df[df['categories'].str.contains('nlp', case=False, na=False)]\n",
    "\n",
    "# Display the resulting DataFrame\n",
    "print(nlp_papers)\n"
   ]
  }
 ],
 "metadata": {
  "kernelspec": {
   "display_name": "SentimentF23",
   "language": "python",
   "name": "python3"
  },
  "language_info": {
   "codemirror_mode": {
    "name": "ipython",
    "version": 3
   },
   "file_extension": ".py",
   "mimetype": "text/x-python",
   "name": "python",
   "nbconvert_exporter": "python",
   "pygments_lexer": "ipython3",
   "version": "3.11.5"
  }
 },
 "nbformat": 4,
 "nbformat_minor": 2
}
